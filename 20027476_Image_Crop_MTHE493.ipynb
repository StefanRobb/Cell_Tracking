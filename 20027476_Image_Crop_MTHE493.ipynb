{
 "cells": [
  {
   "cell_type": "code",
   "execution_count": 1,
   "metadata": {},
   "outputs": [],
   "source": [
    "from PIL import Image\n",
    "import os"
   ]
  },
  {
   "cell_type": "code",
   "execution_count": 4,
   "metadata": {},
   "outputs": [],
   "source": [
    "import os\n",
    "\n",
    "left = 100\n",
    "upper = 125\n",
    "right = 360\n",
    "lower = 385\n",
    "\n",
    "for filename in os.listdir(r\"C:\\Users\\stefa\\Desktop\\Queens\\Fourth Year\\MTHE493\\Database\\E00\"):\n",
    "    if filename.endswith(\".png\"):\n",
    "        imgpath = r\"C:\\Users\\stefa\\Desktop\\Queens\\Fourth Year\\MTHE493\\Database\\E00\\\\\" + filename\n",
    "        img = Image.open(imgpath)\n",
    "        img = img.crop((left,upper,right,lower))\n",
    "        img.save(r\"C:\\Users\\stefa\\Desktop\\Queens\\Fourth Year\\MTHE493\\Database\\E00\\Cropped\\\\\" + filename)\n",
    "        continue\n",
    "    else:\n",
    "        continue"
   ]
  }
 ],
 "metadata": {
  "kernelspec": {
   "display_name": "Python 3",
   "language": "python",
   "name": "python3"
  },
  "language_info": {
   "codemirror_mode": {
    "name": "ipython",
    "version": 3
   },
   "file_extension": ".py",
   "mimetype": "text/x-python",
   "name": "python",
   "nbconvert_exporter": "python",
   "pygments_lexer": "ipython3",
   "version": "3.7.2"
  }
 },
 "nbformat": 4,
 "nbformat_minor": 2
}
