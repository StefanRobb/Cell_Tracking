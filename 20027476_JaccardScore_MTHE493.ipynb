{
 "cells": [
  {
   "cell_type": "code",
   "execution_count": 49,
   "metadata": {},
   "outputs": [],
   "source": [
    "import cv2\n",
    "import numpy as np\n",
    "import matplotlib.pyplot as plt\n",
    "ground_truth = r\"C:\\Users\\stefa\\Desktop\\Queens\\Fourth Year\\MTHE493\\Database\\E00\\Frame055red.png\"           # your goal image\n",
    "guess = r\"C:\\Users\\stefa\\Desktop\\Queens\\Fourth Year\\MTHE493\\Database\\E00\\Results\\Solid Frames\\frame0009.png\"         # your initial region"
   ]
  },
  {
   "cell_type": "code",
   "execution_count": 50,
   "metadata": {},
   "outputs": [
    {
     "name": "stdout",
     "output_type": "stream",
     "text": [
      "0.953401445302766\n"
     ]
    }
   ],
   "source": [
    "# all these photos should be the same dimensions, and be square\n",
    "\n",
    "\n",
    "def main():\n",
    "    ground_truth_in = cv2.imread(ground_truth)            # import original region image\n",
    "    guess_in = cv2.imread(guess)            # import destination region image\n",
    "    jaccard(ground_truth_in, guess_in)\n",
    "\n",
    "\n",
    "def jaccard(gt, guess):\n",
    "    intersection = 0\n",
    "    union = 0\n",
    "    (height, width, x) = gt.shape            # define array based on image shape + 2 for width and height\n",
    "    for x in range(0, width):                   # iterate through image and check pixel values\n",
    "        for y in range(0, height):\n",
    "\n",
    "            if gt[y, x][0] == 0 and gt[y, x][1] == 0 and gt[y, x][2] == 255:\n",
    "                if guess[y, x][0] == 0 and guess[y, x][1] == 0 and guess[y, x][2] == 255:\n",
    "                    intersection = intersection + 1\n",
    "                union = union + 1\n",
    "            elif guess[y, x][0] == 0 and guess[y, x][1] == 0 and guess[y, x][2] == 255:\n",
    "                union = union + 1\n",
    "    print(intersection/union)\n",
    "\n",
    "\n",
    "if __name__ == \"__main__\":\n",
    "    main()"
   ]
  }
 ],
 "metadata": {
  "kernelspec": {
   "display_name": "Python 3",
   "language": "python",
   "name": "python3"
  },
  "language_info": {
   "codemirror_mode": {
    "name": "ipython",
    "version": 3
   },
   "file_extension": ".py",
   "mimetype": "text/x-python",
   "name": "python",
   "nbconvert_exporter": "python",
   "pygments_lexer": "ipython3",
   "version": "3.7.2"
  }
 },
 "nbformat": 4,
 "nbformat_minor": 2
}
